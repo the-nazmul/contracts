{
 "cells": [
  {
   "cell_type": "code",
   "execution_count": 1,
   "id": "8d803932-53ac-4ce7-8cdf-962a34af0269",
   "metadata": {},
   "outputs": [],
   "source": [
    "#importing drivers\n",
    "\n",
    "import requests\n",
    "import pandas as pd\n",
    "from bs4 import BeautifulSoup"
   ]
  },
  {
   "cell_type": "code",
   "execution_count": 4,
   "id": "72c2607c-e4e6-4ecb-b553-f5cf07681683",
   "metadata": {},
   "outputs": [],
   "source": [
    "# not necessary but importing this to avoid warnings about certificates\n",
    "\n",
    "import urllib3\n",
    "urllib3.disable_warnings()"
   ]
  },
  {
   "cell_type": "code",
   "execution_count": 2,
   "id": "73378fc8-c927-4245-9409-c946dd270823",
   "metadata": {},
   "outputs": [],
   "source": [
    "# data, as per inspecting the website: https://www.eprocure.gov.bd/resources/common/SearchNOA.jsp\n",
    "\n",
    "# Development Tools == > Network ==> (Reload) ==> Fetch/XHR ==> (Click on) SearchNoaServlet ==> Headers ==> Payload\n",
    "\n",
    "data = {\n",
    "    \n",
    "    \"keyword\": \"\",\n",
    "    \"pageNo\": \"1\",\n",
    "    \"size\": \"10\",\n",
    "}\n",
    "    "
   ]
  },
  {
   "cell_type": "code",
   "execution_count": 6,
   "id": "5a5600f2-39c2-433f-ac48-f4346401e88e",
   "metadata": {},
   "outputs": [],
   "source": [
    "# columns, as per the database columns\n",
    "\n",
    "_columns = [\n",
    "    \"S. No.\",\n",
    "    \"Tender/Proposal ID, Ref No., Title and Advertisement Date\",\n",
    "    \"Procuring Entity Procurement Method\",\n",
    "    \"District\",\n",
    "    \"Date of Notification of Award\",\n",
    "    \"Contract Award to\",\n",
    "    \"Value Cr. BDT\",\n",
    "]"
   ]
  },
  {
   "cell_type": "code",
   "execution_count": null,
   "id": "ee28a5fa-28c3-42ed-b438-dad5c8f6e8ae",
   "metadata": {},
   "outputs": [],
   "source": [
    "# scraping part\n",
    "\n",
    "all_data = []\n",
    "for page in range(1,45279):  # <--- Increase number of pages here\n",
    "    print(f\"Page: {page}\")\n",
    "    data[\"pageNo\"] = page\n",
    "\n",
    "\n",
    "    #verify=false is not accepted procedure; but I couldn’t figure that out; The URL is from \"Network > Header\"\n",
    "    response = requests.post(\n",
    "        \"https://www.eprocure.gov.bd/SearchNoaServlet\", data=data, verify = False \n",
    "    )\n",
    "    \n",
    "    \n",
    "    # The HTML is missing a `table` tag, so we need to fix it\n",
    "    soup = BeautifulSoup(\"<table>\" + \"\".join(response.text) + \"</table>\", \"html.parser\")\n",
    "    df = pd.read_html(\n",
    "        str(soup),\n",
    "    )[0]\n",
    "\n",
    "    all_data.append(df)"
   ]
  },
  {
   "cell_type": "code",
   "execution_count": 18,
   "id": "e61349c4-bd6e-44a3-af6c-bfce38c26201",
   "metadata": {},
   "outputs": [],
   "source": [
    "#concatting all data into a dataframe\n",
    "\n",
    "_df = pd.concat(all_data)"
   ]
  },
  {
   "cell_type": "code",
   "execution_count": null,
   "id": "6c1aacce-b0f8-42c0-8f9a-93d6a57d2a56",
   "metadata": {},
   "outputs": [],
   "source": [
    "#converting the dataframe into a csv\n",
    "\n",
    "_df.to_csv('all_contracts.csv')"
   ]
  }
 ],
 "metadata": {
  "kernelspec": {
   "display_name": "Python 3 (ipykernel)",
   "language": "python",
   "name": "python3"
  },
  "language_info": {
   "codemirror_mode": {
    "name": "ipython",
    "version": 3
   },
   "file_extension": ".py",
   "mimetype": "text/x-python",
   "name": "python",
   "nbconvert_exporter": "python",
   "pygments_lexer": "ipython3",
   "version": "3.9.12"
  }
 },
 "nbformat": 4,
 "nbformat_minor": 5
}
